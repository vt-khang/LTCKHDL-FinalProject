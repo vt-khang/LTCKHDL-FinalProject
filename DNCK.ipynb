{
 "cells": [
  {
   "cell_type": "markdown",
   "id": "f1da4591",
   "metadata": {},
   "source": [
    "# ĐỒ ÁN CUỐI KÌ: LẬP TRÌNH CHO KHOA HỌC DỮ LIỆU\n",
    "\n",
    "## Đề tài: ...\n",
    "\n",
    "| MSSV     | Họ và tên       | Github    |\n",
    "|----------|-----------------|-----------|\n",
    "| 1712575  | Hoàng Xuân Long | dralong10 |\n",
    "| 19120539 | Vương Thế Khang | vt-khang  |"
   ]
  },
  {
   "cell_type": "markdown",
   "id": "b7b4856b",
   "metadata": {},
   "source": [
    "## Import"
   ]
  },
  {
   "cell_type": "code",
   "execution_count": 1,
   "id": "3e502b6d",
   "metadata": {},
   "outputs": [],
   "source": [
    "import pandas as pd\n",
    "import numpy as np\n",
    "import matplotlib.pyplot as plt"
   ]
  },
  {
   "cell_type": "markdown",
   "id": "b52c8615",
   "metadata": {},
   "source": [
    "## A. THU THẬP DỮ LIỆU"
   ]
  },
  {
   "cell_type": "code",
   "execution_count": null,
   "id": "4ce36115",
   "metadata": {},
   "outputs": [],
   "source": []
  },
  {
   "cell_type": "markdown",
   "id": "c2e92edb",
   "metadata": {},
   "source": [
    "## B. KHÁM PHÁ VÀ TIỀN XỬ LÝ DỮ LIỆU"
   ]
  },
  {
   "cell_type": "markdown",
   "id": "a02faee1",
   "metadata": {},
   "source": [
    "### Dữ liệu có bao nhiêu dòng và bao nhiêu cột?"
   ]
  },
  {
   "cell_type": "code",
   "execution_count": null,
   "id": "eb027193",
   "metadata": {},
   "outputs": [],
   "source": []
  },
  {
   "cell_type": "markdown",
   "id": "705a98c2",
   "metadata": {},
   "source": [
    "### Mỗi dòng có ý nghĩa gì? Có vấn đề các dòng có ý nghĩa khác nhau không?"
   ]
  },
  {
   "cell_type": "code",
   "execution_count": null,
   "id": "2857e8cc",
   "metadata": {},
   "outputs": [],
   "source": []
  },
  {
   "cell_type": "markdown",
   "id": "c29d861d",
   "metadata": {},
   "source": [
    "### Dữ liệu có các dòng bị lặp không?"
   ]
  },
  {
   "cell_type": "code",
   "execution_count": null,
   "id": "6ca0f855",
   "metadata": {},
   "outputs": [],
   "source": []
  },
  {
   "cell_type": "markdown",
   "id": "8145e638",
   "metadata": {},
   "source": [
    "### Mỗi cột có ý nghĩa gì?"
   ]
  },
  {
   "cell_type": "code",
   "execution_count": null,
   "id": "fd200750",
   "metadata": {},
   "outputs": [],
   "source": []
  },
  {
   "cell_type": "markdown",
   "id": "db0213a6",
   "metadata": {},
   "source": [
    "### Mỗi cột hiện đang có kiểu dữ liệu gì? Có cột nào có kiểu dữ liệu chưa phù hợp để có thể xử lý tiếp không?"
   ]
  },
  {
   "cell_type": "code",
   "execution_count": null,
   "id": "305dc9f2",
   "metadata": {},
   "outputs": [],
   "source": []
  },
  {
   "cell_type": "markdown",
   "id": "b3460cdf",
   "metadata": {},
   "source": [
    "### Với mỗi cột có kiểu dữ liệu dạng số (numerical), các giá trị được phân bố như thế nào?"
   ]
  },
  {
   "cell_type": "code",
   "execution_count": null,
   "id": "65159efd",
   "metadata": {},
   "outputs": [],
   "source": []
  },
  {
   "cell_type": "markdown",
   "id": "09e86803",
   "metadata": {},
   "source": [
    "### Với mỗi cột có kiểu dữ liệu dạng phân loại (categorical), các giá trị được phân bố như thế nào?"
   ]
  },
  {
   "cell_type": "code",
   "execution_count": null,
   "id": "77d3d85d",
   "metadata": {},
   "outputs": [],
   "source": []
  },
  {
   "cell_type": "markdown",
   "id": "d0779fb1",
   "metadata": {},
   "source": [
    "## C. ĐẶT CÂU HỎI"
   ]
  },
  {
   "cell_type": "markdown",
   "id": "f364a4f5",
   "metadata": {},
   "source": [
    "### Câu 1: ...\n",
    "### Câu 2: ...\n",
    "### Câu 3: ..."
   ]
  },
  {
   "cell_type": "markdown",
   "id": "4dd5bed0",
   "metadata": {},
   "source": [
    "## D. PHÂN TÍCH DỮ LIỆU"
   ]
  },
  {
   "cell_type": "markdown",
   "id": "9f2a86db",
   "metadata": {},
   "source": [
    "### Câu 1: ..."
   ]
  },
  {
   "cell_type": "code",
   "execution_count": null,
   "id": "71047409",
   "metadata": {},
   "outputs": [],
   "source": []
  },
  {
   "cell_type": "markdown",
   "id": "814934fe",
   "metadata": {},
   "source": [
    "### Câu 2: ..."
   ]
  },
  {
   "cell_type": "code",
   "execution_count": null,
   "id": "f0a3f4d0",
   "metadata": {},
   "outputs": [],
   "source": []
  },
  {
   "cell_type": "markdown",
   "id": "254992fa",
   "metadata": {},
   "source": [
    "### Câu 3: ..."
   ]
  },
  {
   "cell_type": "code",
   "execution_count": null,
   "id": "9da51599",
   "metadata": {},
   "outputs": [],
   "source": []
  },
  {
   "cell_type": "markdown",
   "id": "429b3cbf",
   "metadata": {},
   "source": [
    "## E. NHÌN LẠI QUÁ TRÌNH LÀM ĐỒ ÁN"
   ]
  },
  {
   "cell_type": "code",
   "execution_count": null,
   "id": "ebad3bc9",
   "metadata": {},
   "outputs": [],
   "source": []
  },
  {
   "cell_type": "markdown",
   "id": "f312e8c8",
   "metadata": {},
   "source": [
    "## F. TÀI LIỆU THAM KHẢO"
   ]
  },
  {
   "cell_type": "code",
   "execution_count": null,
   "id": "ced80385",
   "metadata": {},
   "outputs": [],
   "source": []
  }
 ],
 "metadata": {
  "kernelspec": {
   "display_name": "Python 3 (ipykernel)",
   "language": "python",
   "name": "python3"
  },
  "language_info": {
   "codemirror_mode": {
    "name": "ipython",
    "version": 3
   },
   "file_extension": ".py",
   "mimetype": "text/x-python",
   "name": "python",
   "nbconvert_exporter": "python",
   "pygments_lexer": "ipython3",
   "version": "3.8.8"
  }
 },
 "nbformat": 4,
 "nbformat_minor": 5
}
