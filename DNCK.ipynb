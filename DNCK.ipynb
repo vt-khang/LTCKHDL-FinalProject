{
 "cells": [
  {
   "cell_type": "markdown",
   "id": "f1da4591",
   "metadata": {},
   "source": [
    "# <center>ĐỒ ÁN CUỐI KÌ: LẬP TRÌNH CHO KHOA HỌC DỮ LIỆU</center>\n",
    "\n",
    "| MSSV     | Họ và tên       | Github    |\n",
    "|----------|-----------------|-----------|\n",
    "| 1712575  | Hoàng Xuân Long | dralong10 |\n",
    "| 19120539 | Vương Thế Khang | vt-khang  |"
   ]
  },
  {
   "cell_type": "markdown",
   "id": "b7b4856b",
   "metadata": {},
   "source": [
    "## Import"
   ]
  },
  {
   "cell_type": "code",
   "execution_count": 14,
   "id": "3e502b6d",
   "metadata": {},
   "outputs": [],
   "source": [
    "import pandas as pd\n",
    "import numpy as np\n",
    "import matplotlib.pyplot as plt"
   ]
  },
  {
   "cell_type": "markdown",
   "id": "b52c8615",
   "metadata": {},
   "source": [
    "## A. THU THẬP DỮ LIỆU"
   ]
  },
  {
   "cell_type": "markdown",
   "id": "fe9d7c5c",
   "metadata": {},
   "source": [
    "Bộ dữ liệu mà nhóm chọn là bộ dữ liệu về các bộ phim hay TV shows được thu thập từ nền tảng phát video và truyền thông phổ biến nhất **Netflix**. \\\n",
    "Theo như mô tả về bộ dữ liệu:\n",
    "> This dataset consists of tv shows and movies available on Netflix as of 2019. The dataset is collected from Flixable which is a third-party Netflix search engine. \\\n",
    "> Netflix is one of the most popular media and video streaming platforms. They have over 8000 movies or tv shows available on their platform, as of mid-2021, they have over 200M Subscribers globally. This tabular dataset consists of listings of all the movies and tv shows available on Netflix, along with details such as - cast, directors, ratings, release year, duration, etc.\n",
    "\n",
    "Có vẻ như bộ dữ liệu này thu thập các bộ phim và TV shows từ giữa năm 2021 trở về trước và lần cập nhật gần đây nhất của bộ dữ liệu là **27/09/2021 (Version 5)** nên ta có thể tin tưởng về độ chính xác của bộ dữ liệu và các kết quả thống kê. Ngoài ra bộ dữ liệu trên được thu thập từ Flixable - công cụ tìm kiếm bên thứ ba của Netflix.\n",
    "\n",
    "Các file dữ liệu này bao gồm:\n",
    "- File \"netflix_titles.csv\": bộ dữ liệu được thu thập từ [Kaggle](https://www.kaggle.com/shivamb/netflix-shows)\n",
    "- File \"description.txt\": mô tả ý nghĩa của các cột (file tự tạo theo mô tả các cột thuộc tính của bộ dữ liệu)\n",
    "\n",
    "Người thu thập dữ liệu: Shivam Bansai [@shivamb](https://www.kaggle.com/shivamb) \\\n",
    "License: [**CC0 1.0 Universal (CC0 1.0) Public Domain Dedication**](https://creativecommons.org/publicdomain/zero/1.0/)\n",
    ">The person who associated a work with this deed has dedicated the work to the public domain by waiving all of his or her rights to the work worldwide under copyright law, including all related and neighboring rights, to the extent allowed by law. You can copy, modify, distribute and perform the work, even for commercial purposes, all without asking permission.\n",
    "\n",
    "Đầu tiên, ta sẽ xem thử bộ dữ liệu trông như thế nào nhé. Đọc dữ liệu từ file \"netflix_titles.csv\" và lưu vào dataframe `netflix_df`."
   ]
  },
  {
   "cell_type": "code",
   "execution_count": 15,
   "id": "4ce36115",
   "metadata": {},
   "outputs": [
    {
     "data": {
      "text/html": [
       "<div>\n",
       "<style scoped>\n",
       "    .dataframe tbody tr th:only-of-type {\n",
       "        vertical-align: middle;\n",
       "    }\n",
       "\n",
       "    .dataframe tbody tr th {\n",
       "        vertical-align: top;\n",
       "    }\n",
       "\n",
       "    .dataframe thead th {\n",
       "        text-align: right;\n",
       "    }\n",
       "</style>\n",
       "<table border=\"1\" class=\"dataframe\">\n",
       "  <thead>\n",
       "    <tr style=\"text-align: right;\">\n",
       "      <th></th>\n",
       "      <th>show_id</th>\n",
       "      <th>type</th>\n",
       "      <th>title</th>\n",
       "      <th>director</th>\n",
       "      <th>cast</th>\n",
       "      <th>country</th>\n",
       "      <th>date_added</th>\n",
       "      <th>release_year</th>\n",
       "      <th>rating</th>\n",
       "      <th>duration</th>\n",
       "      <th>listed_in</th>\n",
       "      <th>description</th>\n",
       "    </tr>\n",
       "  </thead>\n",
       "  <tbody>\n",
       "    <tr>\n",
       "      <th>0</th>\n",
       "      <td>s1</td>\n",
       "      <td>Movie</td>\n",
       "      <td>Dick Johnson Is Dead</td>\n",
       "      <td>Kirsten Johnson</td>\n",
       "      <td>NaN</td>\n",
       "      <td>United States</td>\n",
       "      <td>September 25, 2021</td>\n",
       "      <td>2020</td>\n",
       "      <td>PG-13</td>\n",
       "      <td>90 min</td>\n",
       "      <td>Documentaries</td>\n",
       "      <td>As her father nears the end of his life, filmm...</td>\n",
       "    </tr>\n",
       "    <tr>\n",
       "      <th>1</th>\n",
       "      <td>s2</td>\n",
       "      <td>TV Show</td>\n",
       "      <td>Blood &amp; Water</td>\n",
       "      <td>NaN</td>\n",
       "      <td>Ama Qamata, Khosi Ngema, Gail Mabalane, Thaban...</td>\n",
       "      <td>South Africa</td>\n",
       "      <td>September 24, 2021</td>\n",
       "      <td>2021</td>\n",
       "      <td>TV-MA</td>\n",
       "      <td>2 Seasons</td>\n",
       "      <td>International TV Shows, TV Dramas, TV Mysteries</td>\n",
       "      <td>After crossing paths at a party, a Cape Town t...</td>\n",
       "    </tr>\n",
       "  </tbody>\n",
       "</table>\n",
       "</div>"
      ],
      "text/plain": [
       "  show_id     type                 title         director  \\\n",
       "0      s1    Movie  Dick Johnson Is Dead  Kirsten Johnson   \n",
       "1      s2  TV Show         Blood & Water              NaN   \n",
       "\n",
       "                                                cast        country  \\\n",
       "0                                                NaN  United States   \n",
       "1  Ama Qamata, Khosi Ngema, Gail Mabalane, Thaban...   South Africa   \n",
       "\n",
       "           date_added  release_year rating   duration  \\\n",
       "0  September 25, 2021          2020  PG-13     90 min   \n",
       "1  September 24, 2021          2021  TV-MA  2 Seasons   \n",
       "\n",
       "                                         listed_in  \\\n",
       "0                                    Documentaries   \n",
       "1  International TV Shows, TV Dramas, TV Mysteries   \n",
       "\n",
       "                                         description  \n",
       "0  As her father nears the end of his life, filmm...  \n",
       "1  After crossing paths at a party, a Cape Town t...  "
      ]
     },
     "execution_count": 15,
     "metadata": {},
     "output_type": "execute_result"
    }
   ],
   "source": [
    "netflix_df = pd.read_csv('netflix_titles.csv')\n",
    "netflix_df.head(2)"
   ]
  },
  {
   "cell_type": "markdown",
   "id": "c2e92edb",
   "metadata": {},
   "source": [
    "## B. KHÁM PHÁ VÀ TIỀN XỬ LÝ DỮ LIỆU"
   ]
  },
  {
   "cell_type": "markdown",
   "id": "a02faee1",
   "metadata": {},
   "source": [
    "### Dữ liệu có bao nhiêu dòng và bao nhiêu cột?"
   ]
  },
  {
   "cell_type": "code",
   "execution_count": 16,
   "id": "eb027193",
   "metadata": {
    "scrolled": true
   },
   "outputs": [
    {
     "data": {
      "text/plain": [
       "(8807, 12)"
      ]
     },
     "execution_count": 16,
     "metadata": {},
     "output_type": "execute_result"
    }
   ],
   "source": [
    "netflix_df.shape"
   ]
  },
  {
   "cell_type": "markdown",
   "id": "5f67eec3",
   "metadata": {},
   "source": [
    "Vậy dữ liệu có kích thước **8807 dòng x 11 cột**"
   ]
  },
  {
   "cell_type": "markdown",
   "id": "705a98c2",
   "metadata": {},
   "source": [
    "### Mỗi dòng có ý nghĩa gì? Có vấn đề các dòng có ý nghĩa khác nhau không?"
   ]
  },
  {
   "cell_type": "markdown",
   "id": "ec7df8fe",
   "metadata": {},
   "source": [
    "Quan sát sơ bộ dữ liệu ta thấy mỗi dòng chứa thông tin về một bộ phim, có vẻ như không có vấn đề các dòng có ý nghĩa khác nhau."
   ]
  },
  {
   "cell_type": "markdown",
   "id": "c29d861d",
   "metadata": {},
   "source": [
    "### Dữ liệu có các dòng bị lặp không?"
   ]
  },
  {
   "cell_type": "markdown",
   "id": "48fe44d4",
   "metadata": {},
   "source": [
    "Kiểm tra xem dữ liệu có các dòng bị lặp không và lưu kết quả vào biến `have_duplicated_row`. Biến này sẽ có giá trị True nếu dữ liệu có các dòng bị lặp và có giá trị False nếu ngược lại."
   ]
  },
  {
   "cell_type": "code",
   "execution_count": 17,
   "id": "6ca0f855",
   "metadata": {},
   "outputs": [
    {
     "data": {
      "text/plain": [
       "False"
      ]
     },
     "execution_count": 17,
     "metadata": {},
     "output_type": "execute_result"
    }
   ],
   "source": [
    "have_duplicated_row = all(netflix_df.duplicated())\n",
    "have_duplicated_row"
   ]
  },
  {
   "cell_type": "markdown",
   "id": "73c9d663",
   "metadata": {},
   "source": [
    "Như vậy, không có dòng nào bị lặp lại."
   ]
  },
  {
   "cell_type": "markdown",
   "id": "8145e638",
   "metadata": {},
   "source": [
    "### Mỗi cột có ý nghĩa gì?"
   ]
  },
  {
   "cell_type": "markdown",
   "id": "da6411e3",
   "metadata": {},
   "source": [
    "Xem file \"description.txt\""
   ]
  },
  {
   "cell_type": "code",
   "execution_count": 18,
   "id": "fd200750",
   "metadata": {},
   "outputs": [
    {
     "data": {
      "text/html": [
       "<div>\n",
       "<style scoped>\n",
       "    .dataframe tbody tr th:only-of-type {\n",
       "        vertical-align: middle;\n",
       "    }\n",
       "\n",
       "    .dataframe tbody tr th {\n",
       "        vertical-align: top;\n",
       "    }\n",
       "\n",
       "    .dataframe thead th {\n",
       "        text-align: right;\n",
       "    }\n",
       "</style>\n",
       "<table border=\"1\" class=\"dataframe\">\n",
       "  <thead>\n",
       "    <tr style=\"text-align: right;\">\n",
       "      <th></th>\n",
       "      <th>Meaning</th>\n",
       "    </tr>\n",
       "    <tr>\n",
       "      <th>Column</th>\n",
       "      <th></th>\n",
       "    </tr>\n",
       "  </thead>\n",
       "  <tbody>\n",
       "    <tr>\n",
       "      <th>show_id</th>\n",
       "      <td>Unique ID for every Movie / Tv Show</td>\n",
       "    </tr>\n",
       "    <tr>\n",
       "      <th>type</th>\n",
       "      <td>Identifier - A Movie or TV Show</td>\n",
       "    </tr>\n",
       "    <tr>\n",
       "      <th>title</th>\n",
       "      <td>Title of the Movie / Tv Show</td>\n",
       "    </tr>\n",
       "    <tr>\n",
       "      <th>director</th>\n",
       "      <td>Director of the Movie</td>\n",
       "    </tr>\n",
       "    <tr>\n",
       "      <th>cast</th>\n",
       "      <td>Actors involved in the movie / show</td>\n",
       "    </tr>\n",
       "    <tr>\n",
       "      <th>country</th>\n",
       "      <td>Country where the movie / show was produced</td>\n",
       "    </tr>\n",
       "    <tr>\n",
       "      <th>data_added</th>\n",
       "      <td>Date it was added on Netflix</td>\n",
       "    </tr>\n",
       "    <tr>\n",
       "      <th>release_year</th>\n",
       "      <td>Actual Release year of the movie / show</td>\n",
       "    </tr>\n",
       "    <tr>\n",
       "      <th>rating</th>\n",
       "      <td>TV Rating of the movie / show</td>\n",
       "    </tr>\n",
       "    <tr>\n",
       "      <th>duration</th>\n",
       "      <td>Total Duration - in minutes or number of seasons</td>\n",
       "    </tr>\n",
       "    <tr>\n",
       "      <th>listed_in</th>\n",
       "      <td>Genere</td>\n",
       "    </tr>\n",
       "    <tr>\n",
       "      <th>description</th>\n",
       "      <td>The summary description</td>\n",
       "    </tr>\n",
       "  </tbody>\n",
       "</table>\n",
       "</div>"
      ],
      "text/plain": [
       "                                                       Meaning\n",
       "Column                                                        \n",
       "show_id                    Unique ID for every Movie / Tv Show\n",
       "type                           Identifier - A Movie or TV Show\n",
       "title                             Title of the Movie / Tv Show\n",
       "director                                 Director of the Movie\n",
       "cast                       Actors involved in the movie / show\n",
       "country            Country where the movie / show was produced\n",
       "data_added                        Date it was added on Netflix\n",
       "release_year           Actual Release year of the movie / show\n",
       "rating                           TV Rating of the movie / show\n",
       "duration      Total Duration - in minutes or number of seasons\n",
       "listed_in                                               Genere\n",
       "description                            The summary description"
      ]
     },
     "execution_count": 18,
     "metadata": {},
     "output_type": "execute_result"
    }
   ],
   "source": [
    "col_name, col_meaning = [], []\n",
    "with open('description.txt', 'r') as f:\n",
    "    for line in f.readlines():\n",
    "        col_name.append(line.strip().split('\\t')[0])\n",
    "        col_meaning.append(line.strip().split('\\t')[1])\n",
    "description_df = pd.DataFrame({'Column': col_name,\n",
    "                              'Meaning': col_meaning}).set_index('Column')\n",
    "description_df"
   ]
  },
  {
   "cell_type": "markdown",
   "id": "db0213a6",
   "metadata": {},
   "source": [
    "### Mỗi cột hiện đang có kiểu dữ liệu gì? Có cột nào có kiểu dữ liệu chưa phù hợp để có thể xử lý tiếp không?"
   ]
  },
  {
   "cell_type": "markdown",
   "id": "9971c7d1",
   "metadata": {},
   "source": [
    "Xem thử kiểu dữ liệu của các cột dữ liệu"
   ]
  },
  {
   "cell_type": "code",
   "execution_count": 19,
   "id": "305dc9f2",
   "metadata": {},
   "outputs": [
    {
     "data": {
      "text/plain": [
       "show_id         object\n",
       "type            object\n",
       "title           object\n",
       "director        object\n",
       "cast            object\n",
       "country         object\n",
       "date_added      object\n",
       "release_year     int64\n",
       "rating          object\n",
       "duration        object\n",
       "listed_in       object\n",
       "description     object\n",
       "dtype: object"
      ]
     },
     "execution_count": 19,
     "metadata": {},
     "output_type": "execute_result"
    }
   ],
   "source": [
    "netflix_df.dtypes"
   ]
  },
  {
   "cell_type": "markdown",
   "id": "d4972743",
   "metadata": {},
   "source": [
    "Như vậy có thể thấy:\n",
    "- Cột \"date_added\" đang có kiểu dữ liệu `object`. Ta cần đưa cột này về dạng `datetime`.\n",
    "- Cột \"cast\" và \"listed_in\" chứa các giá trị liệt kê, do đó ta sẽ đưa cột này về dạng `list`.\n",
    "\n",
    "Ta sẽ làm điều này ở bước tiền xử lý dữ liệu."
   ]
  },
  {
   "cell_type": "markdown",
   "id": "63a5c210",
   "metadata": {},
   "source": [
    "---"
   ]
  },
  {
   "cell_type": "markdown",
   "id": "e8a9e003",
   "metadata": {},
   "source": [
    "## Tiền xử lý"
   ]
  },
  {
   "cell_type": "markdown",
   "id": "f0d2c958",
   "metadata": {},
   "source": [
    "Thay đổi kiểu dữ liệu của cột \"date_added\" sang kiểu dữ liệu dạng `datetime`."
   ]
  },
  {
   "cell_type": "code",
   "execution_count": 20,
   "id": "d0596dd5",
   "metadata": {
    "scrolled": true
   },
   "outputs": [],
   "source": [
    "netflix_df['date_added'] = netflix_df['date_added'].astype('datetime64')"
   ]
  },
  {
   "cell_type": "markdown",
   "id": "65752a77",
   "metadata": {},
   "source": [
    "Thay đổi kiểu dữ liệu của cột \"cast\" và \"listed_in\" sang kiểu dữ liệu dạng `list`. Do trong 2 cột này có các giá trị NaN, nên khi chuyển về dạng `list` sẽ bị lỗi. Do đó trước khi thay đổi kiểu dữ liệu, ta sẽ thay các giá trị NaN của 2 cột này thành \"\" (chuỗi rỗng)."
   ]
  },
  {
   "cell_type": "code",
   "execution_count": 21,
   "id": "6e2ed0b5",
   "metadata": {},
   "outputs": [],
   "source": [
    "netflix_df['cast'] = netflix_df['cast'].replace(np.nan, '').str.split(',')\n",
    "netflix_df['listed_in'] = netflix_df['listed_in'].replace(np.nan, '').str.split(',')"
   ]
  },
  {
   "cell_type": "markdown",
   "id": "a36aa72e",
   "metadata": {},
   "source": [
    "Xem thử kiểu dữ liệu của các cột dữ liệu sau khi tiền xử lý."
   ]
  },
  {
   "cell_type": "code",
   "execution_count": 22,
   "id": "ac0f929b",
   "metadata": {
    "scrolled": true
   },
   "outputs": [
    {
     "data": {
      "text/plain": [
       "show_id                 object\n",
       "type                    object\n",
       "title                   object\n",
       "director                object\n",
       "cast                    object\n",
       "country                 object\n",
       "date_added      datetime64[ns]\n",
       "release_year             int64\n",
       "rating                  object\n",
       "duration                object\n",
       "listed_in               object\n",
       "description             object\n",
       "dtype: object"
      ]
     },
     "execution_count": 22,
     "metadata": {},
     "output_type": "execute_result"
    }
   ],
   "source": [
    "netflix_df.dtypes"
   ]
  },
  {
   "cell_type": "markdown",
   "id": "5aa66177",
   "metadata": {},
   "source": [
    "---"
   ]
  },
  {
   "cell_type": "markdown",
   "id": "56e1ba89",
   "metadata": {},
   "source": [
    "Có vẻ các cột đều có kiểu dữ liệu phù hợp. Nếu trong quá trình phân tích dữ liệu cần phải thay đổi kiểu dữ liệu của các cột thì ta sẽ quay lại tiền xử lý ở đây, tạm thời ta chấp nhận kiểu dữ liệu hiện tại của các cột."
   ]
  },
  {
   "cell_type": "markdown",
   "id": "b3460cdf",
   "metadata": {},
   "source": [
    "### Với mỗi cột có kiểu dữ liệu dạng số (numerical), các giá trị được phân bố như thế nào?"
   ]
  },
  {
   "cell_type": "markdown",
   "id": "30f21a79",
   "metadata": {},
   "source": [
    "Ta sẽ xếp các cột có kiểu dữ liệu `datetime` vào nhóm numerical. Như vậy, chỉ có 2 cột numeric là \"date_added\" và \"release_year\".\n",
    "\n",
    "Với mỗi cột numerical, ta sẽ tính tỉ lệ % giá trị thiếu (từ 0 đến 100), giá trị nhỏ nhất (min) và giá trị lớn nhất (max). Sau đó ta sẽ lưu 3 giá trị này vào dataframe `nume_col_df` thành 3 dòng là \"ratio_missing_val\", \"min\", \"max\"."
   ]
  },
  {
   "cell_type": "code",
   "execution_count": 23,
   "id": "65159efd",
   "metadata": {},
   "outputs": [
    {
     "data": {
      "text/html": [
       "<div>\n",
       "<style scoped>\n",
       "    .dataframe tbody tr th:only-of-type {\n",
       "        vertical-align: middle;\n",
       "    }\n",
       "\n",
       "    .dataframe tbody tr th {\n",
       "        vertical-align: top;\n",
       "    }\n",
       "\n",
       "    .dataframe thead th {\n",
       "        text-align: right;\n",
       "    }\n",
       "</style>\n",
       "<table border=\"1\" class=\"dataframe\">\n",
       "  <thead>\n",
       "    <tr style=\"text-align: right;\">\n",
       "      <th></th>\n",
       "      <th>date_added</th>\n",
       "      <th>release_year</th>\n",
       "    </tr>\n",
       "  </thead>\n",
       "  <tbody>\n",
       "    <tr>\n",
       "      <th>ratio_missing_val</th>\n",
       "      <td>0.113546</td>\n",
       "      <td>0.0</td>\n",
       "    </tr>\n",
       "    <tr>\n",
       "      <th>min</th>\n",
       "      <td>2008-01-01 00:00:00</td>\n",
       "      <td>1925.0</td>\n",
       "    </tr>\n",
       "    <tr>\n",
       "      <th>max</th>\n",
       "      <td>2021-09-25 00:00:00</td>\n",
       "      <td>2021.0</td>\n",
       "    </tr>\n",
       "  </tbody>\n",
       "</table>\n",
       "</div>"
      ],
      "text/plain": [
       "                            date_added  release_year\n",
       "ratio_missing_val             0.113546           0.0\n",
       "min                2008-01-01 00:00:00        1925.0\n",
       "max                2021-09-25 00:00:00        2021.0"
      ]
     },
     "execution_count": 23,
     "metadata": {},
     "output_type": "execute_result"
    }
   ],
   "source": [
    "def ratio_missing_val(s):\n",
    "    return s.isnull().mean()*100\n",
    "\n",
    "nume_col_df = netflix_df[['date_added','release_year']].agg([ratio_missing_val, min, max])\n",
    "nume_col_df"
   ]
  },
  {
   "cell_type": "markdown",
   "id": "0c8ea76b",
   "metadata": {},
   "source": [
    "Min và max của các cột có vẻ không có gì bất thường."
   ]
  },
  {
   "cell_type": "markdown",
   "id": "09e86803",
   "metadata": {},
   "source": [
    "### Với mỗi cột có kiểu dữ liệu dạng phân loại (categorical), các giá trị được phân bố như thế nào?"
   ]
  },
  {
   "cell_type": "markdown",
   "id": "643a4c17",
   "metadata": {},
   "source": [
    "Có 8 cột categorical là \"show_id\", \"type\", \"little\", \"director\", \"country\", \"rating\", \"duration\", \"description\".\n",
    "\n",
    "Với mỗi cột categorical, ta sẽ tính tỉ lệ % giá trị thiếu (từ 0 đến 100), số lượng các giá trị khác nhau (không xét giá trị NaN) và danh sách các giá trị khác nhau (không xét giá trị NaN). Sau đó ta sẽ lưu 3 giá trị này vào dataframe `cate_col_df` thành 3 dòng là \"ratio_missing_val\", \"num_diff_vals\", \"diff_vals\"."
   ]
  },
  {
   "cell_type": "code",
   "execution_count": 24,
   "id": "77d3d85d",
   "metadata": {},
   "outputs": [
    {
     "data": {
      "text/html": [
       "<div>\n",
       "<style scoped>\n",
       "    .dataframe tbody tr th:only-of-type {\n",
       "        vertical-align: middle;\n",
       "    }\n",
       "\n",
       "    .dataframe tbody tr th {\n",
       "        vertical-align: top;\n",
       "    }\n",
       "\n",
       "    .dataframe thead th {\n",
       "        text-align: right;\n",
       "    }\n",
       "</style>\n",
       "<table border=\"1\" class=\"dataframe\">\n",
       "  <thead>\n",
       "    <tr style=\"text-align: right;\">\n",
       "      <th></th>\n",
       "      <th>show_id</th>\n",
       "      <th>type</th>\n",
       "      <th>title</th>\n",
       "      <th>director</th>\n",
       "      <th>country</th>\n",
       "      <th>rating</th>\n",
       "      <th>duration</th>\n",
       "      <th>description</th>\n",
       "    </tr>\n",
       "  </thead>\n",
       "  <tbody>\n",
       "    <tr>\n",
       "      <th>ratio_missing_val</th>\n",
       "      <td>0.0</td>\n",
       "      <td>0.0</td>\n",
       "      <td>0.0</td>\n",
       "      <td>29.908028</td>\n",
       "      <td>9.435676</td>\n",
       "      <td>0.045418</td>\n",
       "      <td>0.034064</td>\n",
       "      <td>0.0</td>\n",
       "    </tr>\n",
       "    <tr>\n",
       "      <th>num_diff_vals</th>\n",
       "      <td>8807</td>\n",
       "      <td>2</td>\n",
       "      <td>8807</td>\n",
       "      <td>4528</td>\n",
       "      <td>748</td>\n",
       "      <td>17</td>\n",
       "      <td>220</td>\n",
       "      <td>8775</td>\n",
       "    </tr>\n",
       "    <tr>\n",
       "      <th>diff_vals</th>\n",
       "      <td>[s1, s2, s3, s4, s5, s6, s7, s8, s9, s10, s11,...</td>\n",
       "      <td>[Movie, TV Show]</td>\n",
       "      <td>[Dick Johnson Is Dead, Blood &amp; Water, Gangland...</td>\n",
       "      <td>[Kirsten Johnson, Julien Leclercq, Mike Flanag...</td>\n",
       "      <td>[United States, South Africa, India, United St...</td>\n",
       "      <td>[PG-13, TV-MA, PG, TV-14, TV-PG, TV-Y, TV-Y7, ...</td>\n",
       "      <td>[90 min, 2 Seasons, 1 Season, 91 min, 125 min,...</td>\n",
       "      <td>[As her father nears the end of his life, film...</td>\n",
       "    </tr>\n",
       "  </tbody>\n",
       "</table>\n",
       "</div>"
      ],
      "text/plain": [
       "                                                             show_id  \\\n",
       "ratio_missing_val                                                0.0   \n",
       "num_diff_vals                                                   8807   \n",
       "diff_vals          [s1, s2, s3, s4, s5, s6, s7, s8, s9, s10, s11,...   \n",
       "\n",
       "                               type  \\\n",
       "ratio_missing_val               0.0   \n",
       "num_diff_vals                     2   \n",
       "diff_vals          [Movie, TV Show]   \n",
       "\n",
       "                                                               title  \\\n",
       "ratio_missing_val                                                0.0   \n",
       "num_diff_vals                                                   8807   \n",
       "diff_vals          [Dick Johnson Is Dead, Blood & Water, Gangland...   \n",
       "\n",
       "                                                            director  \\\n",
       "ratio_missing_val                                          29.908028   \n",
       "num_diff_vals                                                   4528   \n",
       "diff_vals          [Kirsten Johnson, Julien Leclercq, Mike Flanag...   \n",
       "\n",
       "                                                             country  \\\n",
       "ratio_missing_val                                           9.435676   \n",
       "num_diff_vals                                                    748   \n",
       "diff_vals          [United States, South Africa, India, United St...   \n",
       "\n",
       "                                                              rating  \\\n",
       "ratio_missing_val                                           0.045418   \n",
       "num_diff_vals                                                     17   \n",
       "diff_vals          [PG-13, TV-MA, PG, TV-14, TV-PG, TV-Y, TV-Y7, ...   \n",
       "\n",
       "                                                            duration  \\\n",
       "ratio_missing_val                                           0.034064   \n",
       "num_diff_vals                                                    220   \n",
       "diff_vals          [90 min, 2 Seasons, 1 Season, 91 min, 125 min,...   \n",
       "\n",
       "                                                         description  \n",
       "ratio_missing_val                                                0.0  \n",
       "num_diff_vals                                                   8775  \n",
       "diff_vals          [As her father nears the end of his life, film...  "
      ]
     },
     "execution_count": 24,
     "metadata": {},
     "output_type": "execute_result"
    }
   ],
   "source": [
    "def ratio_missing_val(s):\n",
    "    return s.isna().mean()*100\n",
    "def num_diff_vals(s):\n",
    "    return s.nunique()\n",
    "def diff_vals(s):\n",
    "    return s.dropna().unique()\n",
    "\n",
    "cate_col_df = netflix_df[['show_id','type','title','director','country','rating','duration','description']].agg([ratio_missing_val, num_diff_vals, diff_vals])\n",
    "cate_col_df"
   ]
  },
  {
   "cell_type": "markdown",
   "id": "d0779fb1",
   "metadata": {},
   "source": [
    "## C. ĐẶT CÂU HỎI"
   ]
  },
  {
   "cell_type": "markdown",
   "id": "f364a4f5",
   "metadata": {},
   "source": [
    "### Câu 1: ...\n",
    "### Câu 2: ...\n",
    "### Câu 3: ..."
   ]
  },
  {
   "cell_type": "markdown",
   "id": "4dd5bed0",
   "metadata": {},
   "source": [
    "## D. PHÂN TÍCH DỮ LIỆU"
   ]
  },
  {
   "cell_type": "markdown",
   "id": "9f2a86db",
   "metadata": {},
   "source": [
    "### Câu 1: ..."
   ]
  },
  {
   "cell_type": "code",
   "execution_count": null,
   "id": "71047409",
   "metadata": {},
   "outputs": [],
   "source": []
  },
  {
   "cell_type": "markdown",
   "id": "814934fe",
   "metadata": {},
   "source": [
    "### Câu 2: ..."
   ]
  },
  {
   "cell_type": "code",
   "execution_count": null,
   "id": "f0a3f4d0",
   "metadata": {},
   "outputs": [],
   "source": []
  },
  {
   "cell_type": "markdown",
   "id": "254992fa",
   "metadata": {},
   "source": [
    "### Câu 3: ..."
   ]
  },
  {
   "cell_type": "code",
   "execution_count": null,
   "id": "9da51599",
   "metadata": {},
   "outputs": [],
   "source": []
  },
  {
   "cell_type": "markdown",
   "id": "429b3cbf",
   "metadata": {},
   "source": [
    "## E. NHÌN LẠI QUÁ TRÌNH LÀM ĐỒ ÁN"
   ]
  },
  {
   "cell_type": "code",
   "execution_count": null,
   "id": "ebad3bc9",
   "metadata": {},
   "outputs": [],
   "source": []
  },
  {
   "cell_type": "markdown",
   "id": "f312e8c8",
   "metadata": {},
   "source": [
    "## F. TÀI LIỆU THAM KHẢO"
   ]
  },
  {
   "cell_type": "code",
   "execution_count": null,
   "id": "ced80385",
   "metadata": {},
   "outputs": [],
   "source": []
  }
 ],
 "metadata": {
  "kernelspec": {
   "display_name": "Python 3 (ipykernel)",
   "language": "python",
   "name": "python3"
  },
  "language_info": {
   "codemirror_mode": {
    "name": "ipython",
    "version": 3
   },
   "file_extension": ".py",
   "mimetype": "text/x-python",
   "name": "python",
   "nbconvert_exporter": "python",
   "pygments_lexer": "ipython3",
   "version": "3.8.8"
  }
 },
 "nbformat": 4,
 "nbformat_minor": 5
}
